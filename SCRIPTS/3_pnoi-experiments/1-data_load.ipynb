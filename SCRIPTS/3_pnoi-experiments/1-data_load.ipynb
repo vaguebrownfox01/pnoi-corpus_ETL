{
 "cells": [
  {
   "attachments": {},
   "cell_type": "markdown",
   "metadata": {},
   "source": [
    "# Load Pnoi Sync data"
   ]
  },
  {
   "cell_type": "code",
   "execution_count": 5,
   "metadata": {},
   "outputs": [],
   "source": [
    "import pandas as pd\n",
    "import os\n",
    "import numpy as np\n",
    "\n",
    "\n",
    "mkdir = lambda p: 0 if os.path.exists(p) else (os.mkdir(p), 1)[1]"
   ]
  },
  {
   "attachments": {},
   "cell_type": "markdown",
   "metadata": {},
   "source": [
    "## Paths to Dataset\n",
    "> paths valid for linux based os; make changes if running on windows"
   ]
  },
  {
   "cell_type": "code",
   "execution_count": 6,
   "metadata": {},
   "outputs": [],
   "source": [
    "EXP_VER = \"vC\"\n",
    "\n",
    "REPORTS = \"reports\"; mkdir(REPORTS) # Path to the reports folder\n",
    "\n",
    "PNOI_CORPUS_CSV_NAME = \"pnoicorpus_muster.csv\" # csv file with meta data\n",
    "PNOI_CORPUS_CSV_PATH = f\"{REPORTS}/{PNOI_CORPUS_CSV_NAME}\"  #\"pnoicorpus_muster.csv\" # Name of the csv file\n",
    "\n",
    "PNOI_CORPUS_CSV_PATH = f\"{REPORTS}/{PNOI_CORPUS_CSV_NAME}\" # Path to the master csv file\n",
    "\n",
    "PNOI_SYNC_CSV_NAME = f\"pnoi_sync_aud_{EXP_VER}.csv\" # Name of the csv file\n",
    "PNOI_SYNC_CSV_PATH = f\"{REPORTS}/{PNOI_SYNC_CSV_NAME}\" # Path to the master csv file\n"
   ]
  },
  {
   "cell_type": "code",
   "execution_count": 7,
   "metadata": {},
   "outputs": [],
   "source": [
    "class DataStaticInfo:\n",
    "    VER = \"*\"\n",
    "    SEP = \"-\"\n",
    "    META_SEP = \"_\"\n",
    "    EXT_SEP = \".\"\n",
    "    ANOT_LABELS = [\"aa\", \"ee\", \"uu\", \"oo\", \"ii\", \"xx\", \"bb1\", \"bb2\", \"bb3\", \"bb4\"]\n",
    "\n",
    "    fkeys = {\n",
    "        \"APP_CODE\": \"app_code\",\n",
    "        \"SID\":\"sub_id\",\n",
    "        \"FCLASS\": \"file_class\",\n",
    "        \"FID\": \"file_ID\",\n",
    "        \"COMNT\": \"file_comment\",\n",
    "        \"FFMT\": \"file_format\",\n",
    "        \"FNAME\": \"file_name\",\n",
    "        \"FPATH\": \"file_path\",\n",
    "        \"FMATCH\": \"file_match\"\n",
    "    }\n",
    "\n",
    "class AudStaticData(DataStaticInfo):\n",
    "    EMPTY_VAL = '-'\n",
    "    FNAME_SEP = \"-\"\n",
    "    ANOT_SEP = '\\t'\n",
    "    FS_k = \"fs\"\n",
    "    DUR_k = \"dur\"\n",
    "    BEGIN_k = \"begin\"; END_k = \"end\"; LABEL_k = \"label\"\n",
    "    ANOTE_COLS = [BEGIN_k, END_k, LABEL_k]\n",
    "\n",
    "    LUNG_LOCS = [\"LU\", \"RU\", \"LL\", \"RL\"]\n",
    "\n",
    "    LBA_k = \"LBA\"; VBA_k = \"VBA\"; BA_k = \"BA\"\n",
    "    \n",
    "    AUD_TAG = \"aud--\"\n",
    "    ANOT_TAG = \"anot--\"\n",
    "    AUDIO_FPATH_k = f\"audio--file_path\"\n",
    "    ANOT_FPATH_k = f\"anot--file_path\"\n"
   ]
  },
  {
   "cell_type": "code",
   "execution_count": 8,
   "metadata": {},
   "outputs": [
    {
     "data": {
      "text/html": [
       "<div>\n",
       "<style scoped>\n",
       "    .dataframe tbody tr th:only-of-type {\n",
       "        vertical-align: middle;\n",
       "    }\n",
       "\n",
       "    .dataframe tbody tr th {\n",
       "        vertical-align: top;\n",
       "    }\n",
       "\n",
       "    .dataframe thead th {\n",
       "        text-align: right;\n",
       "    }\n",
       "</style>\n",
       "<table border=\"1\" class=\"dataframe\">\n",
       "  <thead>\n",
       "    <tr style=\"text-align: right;\">\n",
       "      <th></th>\n",
       "      <th>begin</th>\n",
       "      <th>end</th>\n",
       "      <th>label</th>\n",
       "      <th>dur</th>\n",
       "      <th>fs</th>\n",
       "      <th>sub_id</th>\n",
       "      <th>file_class</th>\n",
       "      <th>audio--file_path</th>\n",
       "      <th>anot--file_path</th>\n",
       "    </tr>\n",
       "  </thead>\n",
       "  <tbody>\n",
       "    <tr>\n",
       "      <th>0</th>\n",
       "      <td>0.200000</td>\n",
       "      <td>1.723096</td>\n",
       "      <td>oo</td>\n",
       "      <td>1.523096</td>\n",
       "      <td>16000</td>\n",
       "      <td>shreyamgupta_78aa423a</td>\n",
       "      <td>_before_LU</td>\n",
       "      <td>reports/pnoi_sync_data_vC/shreyamgupta_78aa423...</td>\n",
       "      <td>reports/pnoi_sync_data_vC/shreyamgupta_78aa423...</td>\n",
       "    </tr>\n",
       "    <tr>\n",
       "      <th>1</th>\n",
       "      <td>3.722159</td>\n",
       "      <td>5.007272</td>\n",
       "      <td>ii</td>\n",
       "      <td>1.285113</td>\n",
       "      <td>16000</td>\n",
       "      <td>shreyamgupta_78aa423a</td>\n",
       "      <td>_before_LU</td>\n",
       "      <td>reports/pnoi_sync_data_vC/shreyamgupta_78aa423...</td>\n",
       "      <td>reports/pnoi_sync_data_vC/shreyamgupta_78aa423...</td>\n",
       "    </tr>\n",
       "    <tr>\n",
       "      <th>2</th>\n",
       "      <td>5.007272</td>\n",
       "      <td>5.959207</td>\n",
       "      <td>xx</td>\n",
       "      <td>0.951935</td>\n",
       "      <td>16000</td>\n",
       "      <td>shreyamgupta_78aa423a</td>\n",
       "      <td>_before_LU</td>\n",
       "      <td>reports/pnoi_sync_data_vC/shreyamgupta_78aa423...</td>\n",
       "      <td>reports/pnoi_sync_data_vC/shreyamgupta_78aa423...</td>\n",
       "    </tr>\n",
       "    <tr>\n",
       "      <th>3</th>\n",
       "      <td>5.959207</td>\n",
       "      <td>6.911141</td>\n",
       "      <td>ii</td>\n",
       "      <td>0.951934</td>\n",
       "      <td>16000</td>\n",
       "      <td>shreyamgupta_78aa423a</td>\n",
       "      <td>_before_LU</td>\n",
       "      <td>reports/pnoi_sync_data_vC/shreyamgupta_78aa423...</td>\n",
       "      <td>reports/pnoi_sync_data_vC/shreyamgupta_78aa423...</td>\n",
       "    </tr>\n",
       "    <tr>\n",
       "      <th>4</th>\n",
       "      <td>6.911141</td>\n",
       "      <td>8.101060</td>\n",
       "      <td>xx</td>\n",
       "      <td>1.189919</td>\n",
       "      <td>16000</td>\n",
       "      <td>shreyamgupta_78aa423a</td>\n",
       "      <td>_before_LU</td>\n",
       "      <td>reports/pnoi_sync_data_vC/shreyamgupta_78aa423...</td>\n",
       "      <td>reports/pnoi_sync_data_vC/shreyamgupta_78aa423...</td>\n",
       "    </tr>\n",
       "  </tbody>\n",
       "</table>\n",
       "</div>"
      ],
      "text/plain": [
       "      begin       end label       dur     fs                 sub_id  \\\n",
       "0  0.200000  1.723096    oo  1.523096  16000  shreyamgupta_78aa423a   \n",
       "1  3.722159  5.007272    ii  1.285113  16000  shreyamgupta_78aa423a   \n",
       "2  5.007272  5.959207    xx  0.951935  16000  shreyamgupta_78aa423a   \n",
       "3  5.959207  6.911141    ii  0.951934  16000  shreyamgupta_78aa423a   \n",
       "4  6.911141  8.101060    xx  1.189919  16000  shreyamgupta_78aa423a   \n",
       "\n",
       "   file_class                                   audio--file_path  \\\n",
       "0  _before_LU  reports/pnoi_sync_data_vC/shreyamgupta_78aa423...   \n",
       "1  _before_LU  reports/pnoi_sync_data_vC/shreyamgupta_78aa423...   \n",
       "2  _before_LU  reports/pnoi_sync_data_vC/shreyamgupta_78aa423...   \n",
       "3  _before_LU  reports/pnoi_sync_data_vC/shreyamgupta_78aa423...   \n",
       "4  _before_LU  reports/pnoi_sync_data_vC/shreyamgupta_78aa423...   \n",
       "\n",
       "                                     anot--file_path  \n",
       "0  reports/pnoi_sync_data_vC/shreyamgupta_78aa423...  \n",
       "1  reports/pnoi_sync_data_vC/shreyamgupta_78aa423...  \n",
       "2  reports/pnoi_sync_data_vC/shreyamgupta_78aa423...  \n",
       "3  reports/pnoi_sync_data_vC/shreyamgupta_78aa423...  \n",
       "4  reports/pnoi_sync_data_vC/shreyamgupta_78aa423...  "
      ]
     },
     "execution_count": 8,
     "metadata": {},
     "output_type": "execute_result"
    }
   ],
   "source": [
    "class AnotFrame(AudStaticData):\n",
    "\n",
    "    PNOI_SYNC_DF: pd.DataFrame\n",
    "    PNOI_SYNC_ANOT_DF: pd.DataFrame\n",
    "\n",
    "    def __init__(self, sync_aud_csv_path: str) -> None:\n",
    "        self.PNOI_SYNC_DF = pd.read_csv(sync_aud_csv_path)\n",
    "        self.PNOI_SYNC_ANOT_DF = self.make_dataframe()\n",
    "\n",
    "    def extract_anots(self, row: pd.Series) -> pd.DataFrame:\n",
    "        anot_path = row[self.ANOT_FPATH_k]\n",
    "\n",
    "        df = pd.read_csv(anot_path, sep=self.ANOT_SEP, names=self.ANOTE_COLS)\n",
    "        df[self.DUR_k] = df[self.END_k] - df[self.BEGIN_k]\n",
    "\n",
    "        info = pd.DataFrame([row]* len(df)).reset_index(drop=True)\n",
    "        return pd.concat([df, info], axis=1)\n",
    "\n",
    "\n",
    "    def make_dataframe(self) -> pd.DataFrame:\n",
    "        \n",
    "        anot_dfs = []\n",
    "        for _, row in self.PNOI_SYNC_DF.iterrows():\n",
    "            anot_df = self.extract_anots(row)\n",
    "            anot_dfs.append(anot_df)\n",
    "\n",
    "        return pd.concat(anot_dfs, axis=0).reset_index(drop=True)\n",
    "\n",
    "pnoidata_anotframe = AnotFrame(PNOI_SYNC_CSV_PATH)\n",
    "\n",
    "pnoidata_anotframe.PNOI_SYNC_ANOT_DF.head()"
   ]
  },
  {
   "cell_type": "code",
   "execution_count": 9,
   "metadata": {},
   "outputs": [
    {
     "data": {
      "text/plain": [
       "subjectType\n",
       "Patient    11\n",
       "Name: count, dtype: int64"
      ]
     },
     "execution_count": 9,
     "metadata": {},
     "output_type": "execute_result"
    }
   ],
   "source": [
    "class PnoiAnotDataset:\n",
    "\n",
    "    PNOI_SYNC_ANOT_DF: pd.DataFrame\n",
    "    PNOI_MUSTER_DF: pd.DataFrame\n",
    "    PNOI_ANOT_DATASET_DF: pd.DataFrame\n",
    "\n",
    "    def __init__(self, anot_df: pd.DataFrame, pnoi_muster_csv) -> None:\n",
    "        self.PNOI_SYNC_ANOT_DF = anot_df.copy()\n",
    "        self.PNOI_MUSTER_DF = pd.read_csv(pnoi_muster_csv)\n",
    " \n",
    "        self.PNOI_ANOT_DATASET_DF = self.make_dataframe()\n",
    "        \n",
    "\n",
    "    col_order = [\n",
    "    'sub_id',\n",
    "\n",
    "    'subjectName', 'subjectGender', 'subjectAge',\n",
    "    'subjectType', 'subjectHeight', 'subjectWeight',\n",
    "    \n",
    "    'anot--META--file_path',\n",
    "\n",
    "    'FEV1_ref_before', 'FEV1_val_before',\n",
    "    'FVC_ref_before', 'FVC_val_before',\n",
    "    'ratio_ref_before', 'ratio_val_before',\n",
    "    \n",
    "    'FEV1_ref_after', 'FEV1_val_after',\n",
    "    'FVC_ref_after', 'FVC_val_after',\n",
    "    'ratio_ref_after', 'ratio_val_after',\n",
    "    ]\n",
    "\n",
    "    def make_dataframe(self) -> pd.DataFrame:\n",
    "        pnoi_anot_dataset = self.PNOI_SYNC_ANOT_DF.merge(self.PNOI_MUSTER_DF[self.col_order], on=\"sub_id\", how=\"left\")\n",
    "\n",
    "        return pnoi_anot_dataset\n",
    "\n",
    "    \n",
    "\n",
    "pnoidata_anotdataset = PnoiAnotDataset(pnoidata_anotframe.PNOI_SYNC_ANOT_DF, PNOI_CORPUS_CSV_PATH)\n",
    "cols_filt = pnoidata_anotdataset.PNOI_MUSTER_DF.columns.str.contains(\"after\")\n",
    "cols = pnoidata_anotdataset.PNOI_MUSTER_DF.columns[~cols_filt]\n",
    "\n",
    "pnoidata_anotdataset.PNOI_MUSTER_DF[cols].replace(\"-\", np.nan).dropna().apply(pd.to_numeric, errors='ignore')['subjectType'].value_counts()\n",
    "\n"
   ]
  },
  {
   "cell_type": "code",
   "execution_count": 10,
   "metadata": {},
   "outputs": [],
   "source": [
    "pnoidata_anotdataset.PNOI_ANOT_DATASET_DF.to_csv(f\"{REPORTS}/pnoi_anot_dataset_test{EXP_VER}.csv\", index=False)"
   ]
  },
  {
   "cell_type": "markdown",
   "metadata": {},
   "source": [
    "### Test Data Count per Subject"
   ]
  },
  {
   "cell_type": "code",
   "execution_count": 11,
   "metadata": {},
   "outputs": [
    {
     "name": "stdout",
     "output_type": "stream",
     "text": [
      "7 sujatan_bdd161b6\n"
     ]
    }
   ],
   "source": [
    "subjects = pnoidata_anotframe.PNOI_SYNC_DF[\"sub_id\"].unique()\n",
    "\n",
    "for sub in subjects:\n",
    "    filt = pnoidata_anotframe.PNOI_SYNC_DF[\"sub_id\"] == sub\n",
    "    sub_df = pnoidata_anotframe.PNOI_SYNC_DF[filt]\n",
    "\n",
    "    if len(sub_df)%4 != 0: print(len(sub_df), sub) # there should be 4 or 8 audio files per subject"
   ]
  },
  {
   "cell_type": "code",
   "execution_count": 14,
   "metadata": {},
   "outputs": [
    {
     "data": {
      "text/plain": [
       "label\n",
       "ii     736\n",
       "xx     736\n",
       "ee     160\n",
       "uu     160\n",
       "oo     158\n",
       "aa     158\n",
       "bb1     18\n",
       "bb2     18\n",
       "bb4     18\n",
       "bb3     17\n",
       "Name: count, dtype: int64"
      ]
     },
     "execution_count": 14,
     "metadata": {},
     "output_type": "execute_result"
    }
   ],
   "source": [
    "pnoidata_anotframe.PNOI_SYNC_ANOT_DF[\"label\"].value_counts()"
   ]
  },
  {
   "cell_type": "code",
   "execution_count": null,
   "metadata": {},
   "outputs": [],
   "source": []
  }
 ],
 "metadata": {
  "kernelspec": {
   "display_name": "env-pnoi",
   "language": "python",
   "name": "python3"
  },
  "language_info": {
   "codemirror_mode": {
    "name": "ipython",
    "version": 3
   },
   "file_extension": ".py",
   "mimetype": "text/x-python",
   "name": "python",
   "nbconvert_exporter": "python",
   "pygments_lexer": "ipython3",
   "version": "3.9.7"
  },
  "orig_nbformat": 4
 },
 "nbformat": 4,
 "nbformat_minor": 2
}
